{
 "cells": [
  {
   "cell_type": "markdown",
   "metadata": {},
   "source": [
    "# Projeto Final Data Science I - Udacity\n",
    "\n",
    "Explorando os dados do desatre Titanic.\n",
    "\n",
    "Link: [Dicionário de dados](https://www.kaggle.com/c/titanic/data)\n",
    "\n",
    "Perguntas propostas baseadas nos dados disponibilizados:\n",
    "\n",
    "1. Qual taxa de letalidade do desastre?\n",
    "2. Quais as caracteríticas das classes e a probabilidade de sobreviver de cada uma?\n",
    "3. Pessoas da 1ª classe tiveram mais chances de sobreviver que pessoas da 2ª e 3ª? Pessoas da 2ª mais do que pessoas da 3ª?\n",
    "4. A prioridade no atendimento emergencial de mulheres e crianças foi um fator relevante para aumentar as chances de sobrevivência?\n",
    "\n"
   ]
  },
  {
   "cell_type": "code",
   "execution_count": 1,
   "metadata": {},
   "outputs": [],
   "source": [
    "# Importação dos dados\n",
    "import pandas as pd\n",
    "import numpy as np\n",
    "import seaborn as sns\n",
    "import matplotlib.pyplot as plt\n",
    "\n",
    "\n",
    "df_titanic = pd.read_csv(\"titanic-data-6.csv\")"
   ]
  },
  {
   "cell_type": "markdown",
   "metadata": {},
   "source": [
    "## Explorando dados iniciais"
   ]
  },
  {
   "cell_type": "code",
   "execution_count": 2,
   "metadata": {},
   "outputs": [
    {
     "data": {
      "text/html": [
       "<div>\n",
       "<style scoped>\n",
       "    .dataframe tbody tr th:only-of-type {\n",
       "        vertical-align: middle;\n",
       "    }\n",
       "\n",
       "    .dataframe tbody tr th {\n",
       "        vertical-align: top;\n",
       "    }\n",
       "\n",
       "    .dataframe thead th {\n",
       "        text-align: right;\n",
       "    }\n",
       "</style>\n",
       "<table border=\"1\" class=\"dataframe\">\n",
       "  <thead>\n",
       "    <tr style=\"text-align: right;\">\n",
       "      <th></th>\n",
       "      <th>PassengerId</th>\n",
       "      <th>Survived</th>\n",
       "      <th>Pclass</th>\n",
       "      <th>Name</th>\n",
       "      <th>Sex</th>\n",
       "      <th>Age</th>\n",
       "      <th>SibSp</th>\n",
       "      <th>Parch</th>\n",
       "      <th>Ticket</th>\n",
       "      <th>Fare</th>\n",
       "      <th>Cabin</th>\n",
       "      <th>Embarked</th>\n",
       "    </tr>\n",
       "  </thead>\n",
       "  <tbody>\n",
       "    <tr>\n",
       "      <th>0</th>\n",
       "      <td>1</td>\n",
       "      <td>0</td>\n",
       "      <td>3</td>\n",
       "      <td>Braund, Mr. Owen Harris</td>\n",
       "      <td>male</td>\n",
       "      <td>22.0</td>\n",
       "      <td>1</td>\n",
       "      <td>0</td>\n",
       "      <td>A/5 21171</td>\n",
       "      <td>7.2500</td>\n",
       "      <td>NaN</td>\n",
       "      <td>S</td>\n",
       "    </tr>\n",
       "    <tr>\n",
       "      <th>1</th>\n",
       "      <td>2</td>\n",
       "      <td>1</td>\n",
       "      <td>1</td>\n",
       "      <td>Cumings, Mrs. John Bradley (Florence Briggs Th...</td>\n",
       "      <td>female</td>\n",
       "      <td>38.0</td>\n",
       "      <td>1</td>\n",
       "      <td>0</td>\n",
       "      <td>PC 17599</td>\n",
       "      <td>71.2833</td>\n",
       "      <td>C85</td>\n",
       "      <td>C</td>\n",
       "    </tr>\n",
       "    <tr>\n",
       "      <th>2</th>\n",
       "      <td>3</td>\n",
       "      <td>1</td>\n",
       "      <td>3</td>\n",
       "      <td>Heikkinen, Miss. Laina</td>\n",
       "      <td>female</td>\n",
       "      <td>26.0</td>\n",
       "      <td>0</td>\n",
       "      <td>0</td>\n",
       "      <td>STON/O2. 3101282</td>\n",
       "      <td>7.9250</td>\n",
       "      <td>NaN</td>\n",
       "      <td>S</td>\n",
       "    </tr>\n",
       "    <tr>\n",
       "      <th>3</th>\n",
       "      <td>4</td>\n",
       "      <td>1</td>\n",
       "      <td>1</td>\n",
       "      <td>Futrelle, Mrs. Jacques Heath (Lily May Peel)</td>\n",
       "      <td>female</td>\n",
       "      <td>35.0</td>\n",
       "      <td>1</td>\n",
       "      <td>0</td>\n",
       "      <td>113803</td>\n",
       "      <td>53.1000</td>\n",
       "      <td>C123</td>\n",
       "      <td>S</td>\n",
       "    </tr>\n",
       "    <tr>\n",
       "      <th>4</th>\n",
       "      <td>5</td>\n",
       "      <td>0</td>\n",
       "      <td>3</td>\n",
       "      <td>Allen, Mr. William Henry</td>\n",
       "      <td>male</td>\n",
       "      <td>35.0</td>\n",
       "      <td>0</td>\n",
       "      <td>0</td>\n",
       "      <td>373450</td>\n",
       "      <td>8.0500</td>\n",
       "      <td>NaN</td>\n",
       "      <td>S</td>\n",
       "    </tr>\n",
       "  </tbody>\n",
       "</table>\n",
       "</div>"
      ],
      "text/plain": [
       "   PassengerId  Survived  Pclass  \\\n",
       "0            1         0       3   \n",
       "1            2         1       1   \n",
       "2            3         1       3   \n",
       "3            4         1       1   \n",
       "4            5         0       3   \n",
       "\n",
       "                                                Name     Sex   Age  SibSp  \\\n",
       "0                            Braund, Mr. Owen Harris    male  22.0      1   \n",
       "1  Cumings, Mrs. John Bradley (Florence Briggs Th...  female  38.0      1   \n",
       "2                             Heikkinen, Miss. Laina  female  26.0      0   \n",
       "3       Futrelle, Mrs. Jacques Heath (Lily May Peel)  female  35.0      1   \n",
       "4                           Allen, Mr. William Henry    male  35.0      0   \n",
       "\n",
       "   Parch            Ticket     Fare Cabin Embarked  \n",
       "0      0         A/5 21171   7.2500   NaN        S  \n",
       "1      0          PC 17599  71.2833   C85        C  \n",
       "2      0  STON/O2. 3101282   7.9250   NaN        S  \n",
       "3      0            113803  53.1000  C123        S  \n",
       "4      0            373450   8.0500   NaN        S  "
      ]
     },
     "execution_count": 2,
     "metadata": {},
     "output_type": "execute_result"
    }
   ],
   "source": [
    "df_titanic.head()"
   ]
  },
  {
   "cell_type": "code",
   "execution_count": 3,
   "metadata": {},
   "outputs": [
    {
     "name": "stdout",
     "output_type": "stream",
     "text": [
      "Coluna: PassengerId, tipo: <class 'numpy.int64'>\n",
      "Coluna: Survived, tipo: <class 'numpy.int64'>\n",
      "Coluna: Pclass, tipo: <class 'numpy.int64'>\n",
      "Coluna: Name, tipo: <class 'str'>\n",
      "Coluna: Sex, tipo: <class 'str'>\n",
      "Coluna: Age, tipo: <class 'numpy.float64'>\n",
      "Coluna: SibSp, tipo: <class 'numpy.int64'>\n",
      "Coluna: Parch, tipo: <class 'numpy.int64'>\n",
      "Coluna: Ticket, tipo: <class 'str'>\n",
      "Coluna: Fare, tipo: <class 'numpy.float64'>\n",
      "Coluna: Cabin, tipo: <class 'float'>\n",
      "Coluna: Embarked, tipo: <class 'str'>\n"
     ]
    }
   ],
   "source": [
    "# Tipos de dados\n",
    "def verificar_colunas(df):\n",
    "    \"\"\"\n",
    "    Esta função deve exibir todas as colunas do DataFrame\n",
    "\n",
    "    Args:\n",
    "        df: DataFrame que desejamos exibir as colunas.\n",
    "\n",
    "    Retorno/Saída:\n",
    "        Não tem retorno, porém a saída é a exibição de cada coluna com o seu nome e tipo.\n",
    "    \"\"\"\n",
    "    for column in df.columns:\n",
    "        print(\"Coluna: {0}, tipo: {1}\".format(column, type(df[column][0])))\n",
    "\n",
    "verificar_colunas(df_titanic)"
   ]
  },
  {
   "cell_type": "code",
   "execution_count": 4,
   "metadata": {},
   "outputs": [
    {
     "data": {
      "text/plain": [
       "Index(['PassengerId', 'Survived', 'Pclass', 'Name', 'Sex', 'Age', 'SibSp',\n",
       "       'Parch', 'Ticket', 'Fare', 'Cabin', 'Embarked'],\n",
       "      dtype='object')"
      ]
     },
     "execution_count": 4,
     "metadata": {},
     "output_type": "execute_result"
    }
   ],
   "source": [
    "# Colunas\n",
    "df_titanic.columns"
   ]
  },
  {
   "cell_type": "code",
   "execution_count": 5,
   "metadata": {},
   "outputs": [
    {
     "data": {
      "text/plain": [
       "PassengerId      0\n",
       "Survived         0\n",
       "Pclass           0\n",
       "Name             0\n",
       "Sex              0\n",
       "Age            177\n",
       "SibSp            0\n",
       "Parch            0\n",
       "Ticket           0\n",
       "Fare             0\n",
       "Cabin          687\n",
       "Embarked         2\n",
       "dtype: int64"
      ]
     },
     "execution_count": 5,
     "metadata": {},
     "output_type": "execute_result"
    }
   ],
   "source": [
    "# Quantidade de nulos por coluna\n",
    "df_titanic.isnull().sum()"
   ]
  },
  {
   "cell_type": "markdown",
   "metadata": {},
   "source": [
    "## Tratamento e limpeza dos dados\n",
    "\n",
    "Dos 891 registros, 687 cabines não foram informadas e 177 pessoas não forneceram a idade.\n",
    "\n",
    "O tratamento escolhido para cabines será retirar do dataframe, para idade será atribuir 0 para os registros que não forneceram a informação.\n",
    "\n",
    "Com base nas perguntas definidas algumas colunas não farão parte da festa, são elas: ['PassengerId', 'Name', 'SibSp', 'Parch', 'Ticket', 'Cabin'] \n",
    "\n",
    "\n",
    "Estapas da limpeza:\n",
    "- Identificar e remover dados duplicados\n",
    "- Remover colunas que não serão utilizadas na análise\n",
    "- Corrigir formatos e valores de dados\n",
    "\n",
    "Vamos aos tratamentos..."
   ]
  },
  {
   "cell_type": "markdown",
   "metadata": {},
   "source": [
    "##### Passo 1: Identificar e remover dados duplicados"
   ]
  },
  {
   "cell_type": "code",
   "execution_count": 6,
   "metadata": {},
   "outputs": [
    {
     "name": "stdout",
     "output_type": "stream",
     "text": [
      "Existem registros duplicados? Não, tudo OK.\n"
     ]
    }
   ],
   "source": [
    "# Validando se não existem registros duplicados (Esperado que não)\n",
    "print(\"Existem registros duplicados? {}\"\n",
    "      .format(\"Não, tudo OK.\" if(df_titanic.duplicated().sum() == 0) else \"Sim, necessário tratar.\"))"
   ]
  },
  {
   "cell_type": "markdown",
   "metadata": {},
   "source": [
    "##### Passo 2: Remover colunas que não serão utilizadas na análise"
   ]
  },
  {
   "cell_type": "code",
   "execution_count": 7,
   "metadata": {},
   "outputs": [],
   "source": [
    "colunas_descartadas = ['PassengerId', 'Name', 'SibSp', 'Parch', 'Ticket', 'Cabin'] \n",
    "df_titanic.drop(colunas_descartadas, axis=1, inplace=True)"
   ]
  },
  {
   "cell_type": "markdown",
   "metadata": {},
   "source": [
    "##### Passo 3: Corrigir formatos e valores de dados"
   ]
  },
  {
   "cell_type": "code",
   "execution_count": 8,
   "metadata": {},
   "outputs": [
    {
     "name": "stdout",
     "output_type": "stream",
     "text": [
      "53 mulheres e 124 homens não informaram suas idades e representam 19.87% do público geral.\n"
     ]
    }
   ],
   "source": [
    "# 3.1 Adequando nomes\n",
    "df_titanic.columns = ['flag_sobrevivente', 'classe', 'sexo', 'idade', 'tarifa', 'local_de_embarque']\n",
    "\n",
    "# Verificando idade\n",
    "def informativo_idade(df_titanic):\n",
    "    \"\"\"\n",
    "    Esta função deve exibir um resumo sobre os passageiros(mulheres e homens) que não informaram suas idades \n",
    "    e o percentual que esta fatia representam do público geral.\n",
    "\n",
    "    Args:\n",
    "        df_titanic: DataFrame que desejamos extrair as informações sobre as idades não informadas.\n",
    "\n",
    "    Retorno/Saída:\n",
    "        Não tem retorno, porém a saída é a exibição dos homens e mulheres que não informaram a idade com seu percentual.\n",
    "    \"\"\"\n",
    "    mulheres_que_nao_informaram_idade = (df_titanic.query('idade.isnull()', engine='python')['sexo'] == 'female').sum()\n",
    "    homens_que_nao_informaram_idade = (df_titanic.query('idade.isnull()', engine='python')['sexo'] == 'male').sum()\n",
    "    pessoas_que_nao_informaram_idade = mulheres_que_nao_informaram_idade + homens_que_nao_informaram_idade\n",
    "\n",
    "    print(\"{} mulheres e {} homens não informaram suas idades e representam {:.2f}% do público geral.\"\n",
    "             .format(mulheres_que_nao_informaram_idade, \n",
    "                     homens_que_nao_informaram_idade, \n",
    "                     (pessoas_que_nao_informaram_idade / df_titanic.shape[0])*100 ))\n",
    "\n",
    "informativo_idade(df_titanic)"
   ]
  },
  {
   "cell_type": "markdown",
   "metadata": {},
   "source": [
    "Homens e mulheres que não informaram a idade representam quase 20% do total, é uma quantidade que fatalmente afetará outras análises, porém para as perguntas que escolhi basta igualar as idades não informadas a 0 para que os gráfico sejam corretamente exibidos, aléms das informações no describe."
   ]
  },
  {
   "cell_type": "code",
   "execution_count": 9,
   "metadata": {},
   "outputs": [],
   "source": [
    "# 3.2 Atualizando valores faltantes da idade\n",
    "df_titanic['idade'].fillna(0, inplace=True)"
   ]
  },
  {
   "cell_type": "code",
   "execution_count": 10,
   "metadata": {},
   "outputs": [
    {
     "data": {
      "text/plain": [
       "(891, 6)"
      ]
     },
     "execution_count": 10,
     "metadata": {},
     "output_type": "execute_result"
    }
   ],
   "source": [
    "# Analisando tamanho do dataFrame pós-tratamentos\n",
    "df_titanic.shape"
   ]
  },
  {
   "cell_type": "code",
   "execution_count": 11,
   "metadata": {},
   "outputs": [
    {
     "data": {
      "text/html": [
       "<div>\n",
       "<style scoped>\n",
       "    .dataframe tbody tr th:only-of-type {\n",
       "        vertical-align: middle;\n",
       "    }\n",
       "\n",
       "    .dataframe tbody tr th {\n",
       "        vertical-align: top;\n",
       "    }\n",
       "\n",
       "    .dataframe thead th {\n",
       "        text-align: right;\n",
       "    }\n",
       "</style>\n",
       "<table border=\"1\" class=\"dataframe\">\n",
       "  <thead>\n",
       "    <tr style=\"text-align: right;\">\n",
       "      <th></th>\n",
       "      <th>flag_sobrevivente</th>\n",
       "      <th>classe</th>\n",
       "      <th>idade</th>\n",
       "      <th>tarifa</th>\n",
       "    </tr>\n",
       "  </thead>\n",
       "  <tbody>\n",
       "    <tr>\n",
       "      <th>count</th>\n",
       "      <td>891.000000</td>\n",
       "      <td>891.000000</td>\n",
       "      <td>891.000000</td>\n",
       "      <td>891.000000</td>\n",
       "    </tr>\n",
       "    <tr>\n",
       "      <th>mean</th>\n",
       "      <td>0.383838</td>\n",
       "      <td>2.308642</td>\n",
       "      <td>23.799293</td>\n",
       "      <td>32.204208</td>\n",
       "    </tr>\n",
       "    <tr>\n",
       "      <th>std</th>\n",
       "      <td>0.486592</td>\n",
       "      <td>0.836071</td>\n",
       "      <td>17.596074</td>\n",
       "      <td>49.693429</td>\n",
       "    </tr>\n",
       "    <tr>\n",
       "      <th>min</th>\n",
       "      <td>0.000000</td>\n",
       "      <td>1.000000</td>\n",
       "      <td>0.000000</td>\n",
       "      <td>0.000000</td>\n",
       "    </tr>\n",
       "    <tr>\n",
       "      <th>25%</th>\n",
       "      <td>0.000000</td>\n",
       "      <td>2.000000</td>\n",
       "      <td>6.000000</td>\n",
       "      <td>7.910400</td>\n",
       "    </tr>\n",
       "    <tr>\n",
       "      <th>50%</th>\n",
       "      <td>0.000000</td>\n",
       "      <td>3.000000</td>\n",
       "      <td>24.000000</td>\n",
       "      <td>14.454200</td>\n",
       "    </tr>\n",
       "    <tr>\n",
       "      <th>75%</th>\n",
       "      <td>1.000000</td>\n",
       "      <td>3.000000</td>\n",
       "      <td>35.000000</td>\n",
       "      <td>31.000000</td>\n",
       "    </tr>\n",
       "    <tr>\n",
       "      <th>max</th>\n",
       "      <td>1.000000</td>\n",
       "      <td>3.000000</td>\n",
       "      <td>80.000000</td>\n",
       "      <td>512.329200</td>\n",
       "    </tr>\n",
       "  </tbody>\n",
       "</table>\n",
       "</div>"
      ],
      "text/plain": [
       "       flag_sobrevivente      classe       idade      tarifa\n",
       "count         891.000000  891.000000  891.000000  891.000000\n",
       "mean            0.383838    2.308642   23.799293   32.204208\n",
       "std             0.486592    0.836071   17.596074   49.693429\n",
       "min             0.000000    1.000000    0.000000    0.000000\n",
       "25%             0.000000    2.000000    6.000000    7.910400\n",
       "50%             0.000000    3.000000   24.000000   14.454200\n",
       "75%             1.000000    3.000000   35.000000   31.000000\n",
       "max             1.000000    3.000000   80.000000  512.329200"
      ]
     },
     "execution_count": 11,
     "metadata": {},
     "output_type": "execute_result"
    }
   ],
   "source": [
    "df_titanic.describe()"
   ]
  },
  {
   "cell_type": "markdown",
   "metadata": {},
   "source": [
    "#### Seguindo..."
   ]
  },
  {
   "cell_type": "markdown",
   "metadata": {},
   "source": [
    "## Exploração e Visualização\n",
    "\n",
    "\n",
    "#### Pergunta 1\n",
    "Qual taxa de letalidade do desastre?"
   ]
  },
  {
   "cell_type": "code",
   "execution_count": 12,
   "metadata": {},
   "outputs": [],
   "source": [
    "total_de_passageiros = df_titanic.shape[0]"
   ]
  },
  {
   "cell_type": "code",
   "execution_count": 13,
   "metadata": {},
   "outputs": [
    {
     "data": {
      "text/plain": [
       "sexo    flag_sobrevivente\n",
       "female  0                     81\n",
       "        1                    233\n",
       "male    0                    468\n",
       "        1                    109\n",
       "dtype: int64"
      ]
     },
     "execution_count": 13,
     "metadata": {},
     "output_type": "execute_result"
    }
   ],
   "source": [
    "sobreviventes_por_sexo = df_titanic.groupby(['sexo', 'flag_sobrevivente']).size()\n",
    "\n",
    "sobreviventes_por_sexo"
   ]
  },
  {
   "cell_type": "markdown",
   "metadata": {},
   "source": [
    "**Primeiro ponto de atenção:** Identificamos que do total de 891 pessoas, 81 mulheres e 468 homens morreram totalizando 549 mortos e 342 sobreviventes.\n",
    "\n",
    "Isso representa uma taxa de letalidade de **61,62%** para o público geral, sem maiores segmentações.\n",
    "\n",
    "Vamos extrair essas informações dos dados..."
   ]
  },
  {
   "cell_type": "code",
   "execution_count": 14,
   "metadata": {},
   "outputs": [
    {
     "name": "stdout",
     "output_type": "stream",
     "text": [
      "468 homens e 81 mulheres morreram\n",
      "109 homens e 233 mulheres sobreviveram\n",
      "61.62% é a taxa de letalidade geral sem maiores segmentações\n",
      "Total de 342 sobreviventes e 549 mortos\n"
     ]
    }
   ],
   "source": [
    "homens_que_morreram = sobreviventes_por_sexo['male', 0]\n",
    "homens_que_sobreviveram = sobreviventes_por_sexo['male', 1]\n",
    "mulheres_que_morreram = sobreviventes_por_sexo['female', 0]\n",
    "mulheres_que_sobreviveram = sobreviventes_por_sexo['female', 1]\n",
    "\n",
    "total_de_sobreviventes = homens_que_sobreviveram + mulheres_que_sobreviveram\n",
    "total_de_mortes = homens_que_morreram + mulheres_que_morreram\n",
    "taxa_de_letalidade_geral = ((total_de_mortes / total_de_passageiros) * 100)\n",
    "\n",
    "print(\"{} homens e {} mulheres morreram\".format(homens_que_morreram, mulheres_que_morreram))\n",
    "print(\"{} homens e {} mulheres sobreviveram\".format(homens_que_sobreviveram, mulheres_que_sobreviveram))\n",
    "print(\"{:.2f}% é a taxa de letalidade geral sem maiores segmentações\".format(taxa_de_letalidade_geral))\n",
    "print(\"Total de {} sobreviventes e {} mortos\".format(total_de_sobreviventes, total_de_mortes))"
   ]
  },
  {
   "cell_type": "markdown",
   "metadata": {},
   "source": [
    "Ou seja, uma pessoa (sem levar em considerações questões socio-econômicas, localização no navio, sexo e prioridade) teria maior probabilidade de morrer.\n",
    "\n",
    "Vamos trabalhar para explorar mais do que isso."
   ]
  },
  {
   "cell_type": "code",
   "execution_count": 15,
   "metadata": {},
   "outputs": [
    {
     "data": {
      "image/png": "[encoded data removed]",
      "text/plain": [
       "<Figure size 432x288 with 1 Axes>"
      ]
     },
     "metadata": {},
     "output_type": "display_data"
    }
   ],
   "source": [
    "sns.countplot(data=df_titanic, x='flag_sobrevivente', hue='sexo')\n",
    "\n",
    "plt.title(\"Sobreviventes/mortos\")\n",
    "plt.xlabel('Sobrevivente? (0: Não, 1: Sim)')\n",
    "plt.ylabel('Quantidade de pessoas')\n",
    "plt.show()"
   ]
  },
  {
   "cell_type": "markdown",
   "metadata": {},
   "source": [
    "Observamos no gráfico anterior que a quantidade e a proporção de sobreviventes mulheres foi bem maior que as dos homens. \n",
    "\n",
    "Talvez pelo fato de terem seguido a prioridade no atendimento de mulheres e crianças, mas aguarde, temos esta análise na pergunta 4 e detalharemos sobre o assunto.\n",
    "\n",
    "Por enquanto sabemos que as mulheres tiveram mais sorte que os homens, no geral. Ainda não destrinchamos as crianças dos 2 gêneros.\n",
    "\n",
    "Vamos avaliar a proporção dos sobreviventes nos homens e mulheres abaixo:"
   ]
  },
  {
   "cell_type": "code",
   "execution_count": 16,
   "metadata": {
    "scrolled": true
   },
   "outputs": [
    {
     "data": {
      "image/png": "[encoded data removed]",
      "text/plain": [
       "<Figure size 432x288 with 1 Axes>"
      ]
     },
     "metadata": {},
     "output_type": "display_data"
    }
   ],
   "source": [
    "sns.violinplot(data=df_titanic, y='flag_sobrevivente', x='sexo')\n",
    "plt.title('Sobreviventes por sexo')\n",
    "plt.ylabel('0: Morreu  1: Sobreviveu')\n",
    "plt.show()"
   ]
  },
  {
   "cell_type": "markdown",
   "metadata": {},
   "source": [
    "Analisando os dois últimos gráficos chegamos facilmente na conclusão que a maioria dos homens morreu e a maioria das mulheres sobreviveu. \n",
    "\n",
    "Neste último o 0.0 representa que a pessoa não sobreviveu, o 1.0 significa que ela sobreviveu. Percebemos que o gráfico alarga consideravelmente nos homens não sobreviventes e nas mulheres sobreviventes, representando acertadamente a informação que inferimos no 1º gráfico.\n",
    "\n",
    "Vamos calcular a taxa de letalidade por sexo:"
   ]
  },
  {
   "cell_type": "code",
   "execution_count": 17,
   "metadata": {},
   "outputs": [
    {
     "name": "stdout",
     "output_type": "stream",
     "text": [
      "81.11% é a taxa de letalidade para homens de forma geral\n",
      "25.80% é a taxa de letalidade para mulheres de forma geral\n"
     ]
    }
   ],
   "source": [
    "passageiros_por_sexo = df_titanic.groupby(['sexo']).size()\n",
    "total_de_mulheres = passageiros_por_sexo['female']\n",
    "total_de_homens = passageiros_por_sexo['male']\n",
    "\n",
    "taxa_de_letalidade_homens = ((homens_que_morreram / total_de_homens) * 100)\n",
    "taxa_de_letalidade_mulheres = ((mulheres_que_morreram / total_de_mulheres) * 100)\n",
    "\n",
    "print(\"{:.2f}% é a taxa de letalidade para homens de forma geral\".format(taxa_de_letalidade_homens))\n",
    "print(\"{:.2f}% é a taxa de letalidade para mulheres de forma geral\".format(taxa_de_letalidade_mulheres))"
   ]
  },
  {
   "cell_type": "markdown",
   "metadata": {},
   "source": [
    "##### Damos como respondida a primeira pergunta sobre a taxa de letalidade geral do desastre, agora entraremos nas especificidades das demais perguntas, explorando um pouco mais nesta mesma linha.\n",
    "\n",
    "\n",
    "#### Pergunta 2\n",
    "Quais as caracteríticas das classes e a probabilidade de sobreviver de cada uma?\n",
    "\n",
    "Características desejadas:\n",
    "- tarifa média\n",
    "- idade média\n",
    "- local de embarque mais frequente (moda)\n",
    "- quantidade de sobreviventes\n",
    "- quantidade de mortos"
   ]
  },
  {
   "cell_type": "code",
   "execution_count": 18,
   "metadata": {},
   "outputs": [
    {
     "data": {
      "text/plain": [
       "classe\n",
       "1    216\n",
       "2    184\n",
       "3    491\n",
       "dtype: int64"
      ]
     },
     "metadata": {},
     "output_type": "display_data"
    },
    {
     "data": {
      "text/plain": [
       "classe  flag_sobrevivente\n",
       "1       0                     80\n",
       "        1                    136\n",
       "2       0                     97\n",
       "        1                     87\n",
       "3       0                    372\n",
       "        1                    119\n",
       "dtype: int64"
      ]
     },
     "metadata": {},
     "output_type": "display_data"
    }
   ],
   "source": [
    "passageiros_por_classe = df_titanic.groupby('classe').size()\n",
    "sobreviventes_ou_nao_por_classe =  df_titanic.groupby(['classe', 'flag_sobrevivente']).size()\n",
    "\n",
    "display(passageiros_por_classe)\n",
    "display(sobreviventes_ou_nao_por_classe)"
   ]
  },
  {
   "cell_type": "code",
   "execution_count": 20,
   "metadata": {},
   "outputs": [
    {
     "name": "stdout",
     "output_type": "stream",
     "text": [
      "Características da 1ª Classe:\n",
      " Tarifa média: 84.15\n",
      " Idade média: 32\n",
      " Local de Embarque mais utilizado: S\n",
      " Total de passageiros: 216\n",
      " Sobreviventes/Mortos: 136/80\n",
      " Probabilidade de sobreviver: 62.96%\n",
      "\n",
      "\n",
      "Características da 2ª Classe:\n",
      " Tarifa média: 20.66\n",
      " Idade média: 28\n",
      " Local de Embarque mais utilizado: S\n",
      " Total de passageiros: 184\n",
      " Sobreviventes/Mortos: 87/97\n",
      " Probabilidade de sobreviver: 47.28%\n",
      "\n",
      "\n",
      "Características da 3ª Classe:\n",
      " Tarifa média: 13.68\n",
      " Idade média: 18\n",
      " Local de Embarque mais utilizado: S\n",
      " Total de passageiros: 491\n",
      " Sobreviventes/Mortos: 119/372\n",
      " Probabilidade de sobreviver: 24.24%\n",
      "\n",
      "\n"
     ]
    }
   ],
   "source": [
    "def caracteristicas_da_classe(classe):\n",
    "    \"\"\"\n",
    "    Esta função deve exibir as características da classe passada por parâmetro.\n",
    "    \n",
    "    Args:\n",
    "        classe: Inteiro da classe que desejamos exibir informações\n",
    "\n",
    "    Retorno/Saída:\n",
    "        Não tem retorno, porém a saída é a exibição das características da classe, são elas:\n",
    "        - Tarifa Média\n",
    "        - Idade Média\n",
    "        - Local de Embarque mais utilizado\n",
    "        - Total de passageiros\n",
    "        - Quantidade de sobreviventes e mortos\n",
    "        - Probabilidade de sobreviver de um passageiro desta classe\n",
    "    \"\"\"\n",
    "    df_classe = df_titanic.query('classe == @classe')\n",
    "    tarifa_media = float(\"{:.2f}\".format(df_classe['tarifa'].mean()))\n",
    "    idade_media = int(df_classe['idade'].mean())\n",
    "    embarque_mais_frequente = df_titanic['local_de_embarque'].mode()[0]\n",
    "    qtd_embarques = df_classe[df_classe['local_de_embarque'] == embarque_mais_frequente].shape[0]\n",
    "    passageiros_da_classe = df_classe.shape[0]\n",
    "    sobreviventes = df_classe[df_classe['flag_sobrevivente'] == 1].shape[0]\n",
    "    mortos = passageiros_da_classe - sobreviventes\n",
    "    probabilidade_de_sobreviver = float(\"{:.2f}\".format(df_classe['flag_sobrevivente'].mean() * 100))\n",
    "    \n",
    "    print(\"Características da {}ª Classe:\\n Tarifa média: {}\\n Idade média: {}\\n Local de Embarque mais utilizado: {}\\n\"\n",
    "          \" Total de passageiros: {}\\n Sobreviventes/Mortos: {}/{}\\n Probabilidade de sobreviver: {}%\\n\\n\"\n",
    "          .format(classe, tarifa_media, idade_media, embarque_mais_frequente, passageiros_da_classe, \n",
    "                  sobreviventes, mortos, probabilidade_de_sobreviver))\n",
    "\n",
    "caracteristicas_da_classe(1)\n",
    "caracteristicas_da_classe(2)\n",
    "caracteristicas_da_classe(3)"
   ]
  },
  {
   "cell_type": "markdown",
   "metadata": {},
   "source": [
    "Representando a probabilidade de uma pessoas sobreviver pela classe que ela estava chegamos no seguinte gráfico:"
   ]
  },
  {
   "cell_type": "code",
   "execution_count": 21,
   "metadata": {},
   "outputs": [
    {
     "data": {
      "image/png": "[encoded data removed]",
      "text/plain": [
       "<Figure size 432x288 with 1 Axes>"
      ]
     },
     "metadata": {},
     "output_type": "display_data"
    }
   ],
   "source": [
    "sns.barplot(data=df_titanic, y='flag_sobrevivente', x='classe')\n",
    "\n",
    "plt.title('Sobreviventes por classe')\n",
    "plt.ylabel('Probabilidade')\n",
    "plt.xlabel('Classe')\n",
    "plt.show()"
   ]
  },
  {
   "cell_type": "markdown",
   "metadata": {},
   "source": [
    "**Entendimento do gráfico:** No gráfico acima detalhamos a chance de sobrevivência por classe, a da primeira classe foi de aproximadamente 62%, da 2ª classe de quase 50% e da 3ª classe de um pouco menos de 30%.\n",
    "\n",
    "Ao explorar os locais principais de embarque notei que em todas as classes o principal ponto de embarque foi em **S** (Southampton). \n",
    "\n",
    "Pesquisando no [Wikipedia](https://pt.wikipedia.org/wiki/RMS_Titanic) verifiquei que este foi o principal porto de embarque do transatlântico, representando 70%(922) do total de 1316 passageiros do navio.\n",
    "\n",
    "Detalhando o embaque por porto e classe encontramos os seguintes números:"
   ]
  },
  {
   "cell_type": "code",
   "execution_count": 22,
   "metadata": {},
   "outputs": [
    {
     "data": {
      "text/plain": [
       "local_de_embarque  classe\n",
       "C                  1          85\n",
       "                   2          17\n",
       "                   3          66\n",
       "Q                  1           2\n",
       "                   2           3\n",
       "                   3          72\n",
       "S                  1         127\n",
       "                   2         164\n",
       "                   3         353\n",
       "dtype: int64"
      ]
     },
     "metadata": {},
     "output_type": "display_data"
    }
   ],
   "source": [
    "local_de_embarque_das_classes = df_titanic.groupby(['local_de_embarque','classe']).size()\n",
    "display(local_de_embarque_das_classes)"
   ]
  },
  {
   "cell_type": "markdown",
   "metadata": {},
   "source": [
    "#### Pergunta 3\n",
    "\n",
    "Pessoas da 1ª classe tiveram mais chances de sobreviver que pessoas da 2ª e 3ª? Pessoas da 2ª mais do que pessoas da 3ª?"
   ]
  },
  {
   "cell_type": "markdown",
   "metadata": {},
   "source": [
    "De acordo com o gráfico **Sobreviventes por classe**, da pergunta anterior, pessoas que estavam na 1ª classe tiveram mais chances de sobreviver que pessoas da 2ª e pessoas da 2ª classe tiveram mais chances que pessoas da 3ª.\n",
    "\n",
    "Isso se deve ao fato também da localização das pessoas por classe fisicamente no navio:\n",
    "\n",
    "- Parte superior: 1ª classe\n",
    "- Camada intermediária: 2ª classe\n",
    "- Fundo do navio: 3ª classe\n",
    "\n",
    "De acordo com a [história](https://pt.wikipedia.org/wiki/Botes_salva-vidas_do_RMS_Titanic) os botes foram insuficientes e estavam na parte superior, isso nos ajuda a entender o motivo de um pessoa da 1ª classe ter tido uma chance de mais de 62% de sobreviver, provavelmente foram as primeiras a chegar nos botes.\n",
    "\n",
    "Vamos explorar os quantitativos de sobreviventes por classe para complementar o entendimento e responder a pergunta.\n",
    "\n"
   ]
  },
  {
   "cell_type": "code",
   "execution_count": 23,
   "metadata": {},
   "outputs": [
    {
     "name": "stdout",
     "output_type": "stream",
     "text": [
      "1    136\n",
      "3    119\n",
      "2     87\n",
      "Name: classe, dtype: int64\n"
     ]
    },
    {
     "data": {
      "image/png": "[encoded data removed]",
      "text/plain": [
       "<Figure size 402.375x360 with 1 Axes>"
      ]
     },
     "metadata": {},
     "output_type": "display_data"
    }
   ],
   "source": [
    "sobreviventes_por_classe = df_titanic[df_titanic['flag_sobrevivente'] == 1]\n",
    "print(sobreviventes_por_classe['classe'].value_counts())\n",
    "\n",
    "sns.factorplot('flag_sobrevivente', hue='classe', data=sobreviventes_por_classe, kind='count', size=5)\n",
    "\n",
    "plt.title('Sobreviventes por classe')\n",
    "plt.show()"
   ]
  },
  {
   "cell_type": "markdown",
   "metadata": {},
   "source": [
    "**Entendimento do gráfico:** No gráfico acima detalhamos informações quantitativas sobre os sobreviventes por classe. Na 1ª classe tivemos quase 140 sobreviventes, na 2ª classe mais de 80 e na 3ª classe um pouco menos de 120 passageiros, chamando atenção para o resultado da 2 e 3 classes que detalharemos a seguir.\n",
    "\n",
    "\n",
    "\n",
    "Respondendo às questões:\n",
    "\n",
    "**Pessoas da 1ª classe tiveram mais chances de sobreviver que pessoas da 2ª e 3ª?**\n",
    "\n",
    "Sim. Pessoas da primeira classe tiveram maiores chances (62%) e numericamente foram salvos em maior volume: 136 pessoas. \n",
    "\n",
    "**Pessoas da 2ª mais do que pessoas da 3ª?**\n",
    "\n",
    "Sim. Apesar da quantidade de sobreviventes da 3ª classe ter superado em 32 o número da 2ª classe, foi comprovado que pessoas da 2ª classe tiveram quase o dobro de chances de sobrevivência do que pessoas da 3ª classe. \n",
    "\n",
    "\n",
    "Um economia de $6,98 (na tarifa média da 3ª para 2ª classe) que poderia ter feito a diferença, pois pessoas da 2ª classe tiveram quase 50% de chances de sobreviver.\n",
    "\n",
    "Pergunta 3 OK, agora a última pergunta...\n"
   ]
  },
  {
   "cell_type": "markdown",
   "metadata": {},
   "source": [
    "#### Pergunta 4\n",
    "\n",
    "A prioridade no atendimento emergencial de mulheres e crianças foi um fator relevante para aumentar as chances de sobrevivência?\n",
    "\n",
    "Como verificamos anteriormente, no arquivo disponibilizado 53 mulheres e 124 homens não informaram suas idades e representam 19.87% do público geral. Estes dados já foram retirados do dataframe e não serão considerados na análisa a seguir."
   ]
  },
  {
   "cell_type": "code",
   "execution_count": 24,
   "metadata": {},
   "outputs": [
    {
     "name": "stdout",
     "output_type": "stream",
     "text": [
      "Daqueles que informaram idade:\n",
      " Idade média dos sobreviventes: 28.0\n",
      " Idade média dos não-sobreviventes: 31.0\n",
      " Sobrevivente mais novo: 0.42\n",
      " Sobrevivente mais velho: 80.0\n",
      " Não-sobrevivente mais novo: 1.0\n",
      " Não-sobrevivente mais velho: 74.0\n"
     ]
    },
    {
     "data": {
      "image/png": "[encoded data removed]",
      "text/plain": [
       "<Figure size 473.7x504 with 1 Axes>"
      ]
     },
     "metadata": {},
     "output_type": "display_data"
    }
   ],
   "source": [
    "df_titanic_idade = df_titanic.query('idade > 0').copy()\n",
    "\n",
    "media_idade_sobreviventes = df_titanic_idade[df_titanic_idade['flag_sobrevivente'] == True]['idade'].mean()\n",
    "media_idade_mortos = df_titanic_idade[df_titanic_idade['flag_sobrevivente'] == False]['idade'].mean()\n",
    "sobrevivente_mais_novo = df_titanic_idade[df_titanic_idade['flag_sobrevivente'] == True]['idade'].min()\n",
    "sobrevivente_mais_velho = df_titanic_idade[df_titanic_idade['flag_sobrevivente'] == True]['idade'].max()\n",
    "morto_mais_novo = df_titanic_idade[df_titanic_idade['flag_sobrevivente'] == False]['idade'].min()\n",
    "morto_mais_velho = df_titanic_idade[df_titanic_idade['flag_sobrevivente'] == False]['idade'].max()\n",
    "\n",
    "print(\"Daqueles que informaram idade:\\n\"\n",
    "    \" Idade média dos sobreviventes: {}\\n\"\n",
    "    \" Idade média dos não-sobreviventes: {}\\n\"\n",
    "    \" Sobrevivente mais novo: {}\\n\"\n",
    "    \" Sobrevivente mais velho: {}\\n\"\n",
    "    \" Não-sobrevivente mais novo: {}\\n\"\n",
    "    \" Não-sobrevivente mais velho: {}\"\n",
    "    .format(np.round(media_idade_sobreviventes), np.round(media_idade_mortos), \n",
    "            sobrevivente_mais_novo, sobrevivente_mais_velho, morto_mais_novo, morto_mais_velho ))\n",
    "\n",
    "sns.factorplot(x=\"flag_sobrevivente\", y=\"idade\", hue='sexo', data=df_titanic_idade, kind=\"box\", size=7, aspect=.8)\n",
    "\n",
    "plt.show()"
   ]
  },
  {
   "cell_type": "markdown",
   "metadata": {},
   "source": [
    "De acordo com o gráfico acima a idade não foi um fator decisivo na taxa de sobrevivência do passageiro, talvez pela quantidade reduzida de crianças no dataframe ou talvez pelas pessoas que não informaram a idade.\n",
    "\n",
    "A idade média para aqueles que sobreviveram e mesmo aqueles que não sobreviveram estavam alinhadas entre si.\n",
    "\n",
    "Vamos continuar explorando segmentando em categorias Homem, Mulher e Criança."
   ]
  },
  {
   "cell_type": "code",
   "execution_count": 25,
   "metadata": {},
   "outputs": [
    {
     "name": "stdout",
     "output_type": "stream",
     "text": [
      "categoria  flag_sobrevivente\n",
      "Criança    0                     29\n",
      "           1                     42\n",
      "Homem      0                    344\n",
      "           1                     72\n",
      "Mulher     0                     51\n",
      "           1                    176\n",
      "dtype: int64\n"
     ]
    },
    {
     "data": {
      "image/png": "[encoded data removed]",
      "text/plain": [
       "<Figure size 1209.6x504 with 3 Axes>"
      ]
     },
     "metadata": {},
     "output_type": "display_data"
    }
   ],
   "source": [
    "idade_de_corte_criancas = 14\n",
    "restricoes_mulher = ((df_titanic_idade['sexo'] == 'female') & (df_titanic_idade['idade'] >= idade_de_corte_criancas))\n",
    "restricoes_homem = ((df_titanic_idade['sexo'] == 'male') & (df_titanic_idade['idade'] >= idade_de_corte_criancas))\n",
    "restricoes_crianca = (df_titanic_idade['idade'] < idade_de_corte_criancas)\n",
    "\n",
    "df_titanic_idade.loc[restricoes_mulher, 'categoria'] = 'Mulher'\n",
    "df_titanic_idade.loc[restricoes_homem, 'categoria'] = 'Homem'\n",
    "df_titanic_idade.loc[restricoes_crianca, 'categoria'] = 'Criança'\n",
    "\n",
    "print(df_titanic_idade.groupby(['categoria','flag_sobrevivente']).size())\n",
    "\n",
    "sns.factorplot('flag_sobrevivente', col='categoria', data=df_titanic_idade, kind='count', size=7, aspect=.8)\n",
    "plt.show()"
   ]
  },
  {
   "cell_type": "markdown",
   "metadata": {},
   "source": [
    "Utilizamos a idade de corte de 14 anos para ser uma pessoa ser considerada criança.\n",
    "\n",
    "Os gráficos reforçam a idéia de que \"mulheres e crianças primeiro\" desempenharam um papel na sobrevivência de crianças e mulheres."
   ]
  },
  {
   "cell_type": "markdown",
   "metadata": {},
   "source": [
    "## Conclusões\n",
    "\n",
    "Os resultados da análise, embora provisórios, parecem indicar que classe e sexo, ou seja, ser uma mulher com posição socioeconômica superior (primeira classe), dariam uma melhor chance de sobrevivência quando a tragédia ocorresse no Titanic. \n",
    "\n",
    "Mulheres e crianças, em todas as classes, tendem a ter uma taxa de sobrevivência mais alta do que os homens no geral, mas de forma alguma a criança ou a mulher garantem a sobrevivência.\n",
    "\n",
    "### Limitações\n",
    "\n",
    "As **idades faltantes** foram uma limitação para alguns gráficos, como o da pergunta 4 que busca segmentar os passageiros pelas idade e pela sua probabilidade de sobrevivência. Um tratamento inicial foi preencher os valores não informados por zero, o que não comprometeu as análises iniciais. Já na pergunta 4 foi necessário copiar o DataFrame inicial excluindo na sequência os valores com zero para eliminar os passageiros que não informaram a idade e reduzir no percentual de erro das informações.\n",
    "\n",
    "Outro campo que poderia ter agregado à análise foi o da **cabine** que provavelmente seguiria um padrão por classe, caberia uma pesquisa para validar esta informação e talvez achar uma lógica até pelo posicionamento dos passageiros.\n",
    "\n",
    "### Links utilizados :\n",
    "\n",
    "- http://www.previdencia.gov.br/dados-abertos/aeat-2013/secao-ii-indicadores-de-acidentes-do-trabalho/\n",
    "- https://seaborn.pydata.org/generated/seaborn.factorplot.html\n",
    "- https://pt.wikipedia.org/wiki/Botes_salva-vidas_do_RMS_Titanic\n",
    "- https://pt.wikipedia.org/wiki/RMS_Titanic\n",
    "- http://sphinxcontrib-napoleon.readthedocs.io/en/latest/example_google.html\n",
    "- https://www.python.org/dev/peps/pep-0257/\n"
   ]
  },
  {
   "cell_type": "code",
   "execution_count": null,
   "metadata": {},
   "outputs": [],
   "source": []
  }
 ],
 "metadata": {
  "kernelspec": {
   "display_name": "Python 3",
   "language": "python",
   "name": "python3"
  },
  "language_info": {
   "codemirror_mode": {
    "name": "ipython",
    "version": 3
   },
   "file_extension": ".py",
   "mimetype": "text/x-python",
   "name": "python",
   "nbconvert_exporter": "python",
   "pygments_lexer": "ipython3",
   "version": "3.6.5"
  }
 },
 "nbformat": 4,
 "nbformat_minor": 2
}
